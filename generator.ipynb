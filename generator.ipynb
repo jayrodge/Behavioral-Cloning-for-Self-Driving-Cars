{
 "cells": [
  {
   "cell_type": "code",
   "execution_count": 1,
   "metadata": {},
   "outputs": [
    {
     "name": "stderr",
     "output_type": "stream",
     "text": [
      "Using TensorFlow backend.\n"
     ]
    }
   ],
   "source": [
    "import os\n",
    "import csv\n",
    "from keras.models import Sequential\n",
    "from keras.layers import Flatten,Dense,Dropout,Activation\n",
    "from keras.layers import Lambda\n",
    "from keras import optimizers\n",
    "from keras.layers.convolutional import MaxPooling2D,Convolution2D,Cropping2D"
   ]
  },
  {
   "cell_type": "code",
   "execution_count": 2,
   "metadata": {},
   "outputs": [],
   "source": [
    "samples = []\n",
    "with open('./data/driving_log.csv') as csvfile:\n",
    "    reader = csv.reader(csvfile)\n",
    "    for line in reader:\n",
    "        samples.append(line)\n",
    "samples=samples[1:]"
   ]
  },
  {
   "cell_type": "code",
   "execution_count": 3,
   "metadata": {},
   "outputs": [],
   "source": [
    "from sklearn.model_selection import train_test_split\n",
    "train_samples, validation_samples = train_test_split(samples, test_size=0.2)"
   ]
  },
  {
   "cell_type": "code",
   "execution_count": 4,
   "metadata": {},
   "outputs": [],
   "source": [
    "import cv2\n",
    "import numpy as np\n",
    "import sklearn"
   ]
  },
  {
   "cell_type": "code",
   "execution_count": 5,
   "metadata": {},
   "outputs": [],
   "source": [
    "def generator(samples, batch_size=32):\n",
    "    num_samples = len(samples)\n",
    "    while 1: # Loop forever so the generator never terminates\n",
    "        sklearn.utils.shuffle(samples)\n",
    "        for offset in range(0, num_samples, batch_size):\n",
    "            batch_samples = samples[offset:offset+batch_size]\n",
    "\n",
    "            images = []\n",
    "            measurements = []\n",
    "            for batch_sample in batch_samples:\n",
    "                for i in range(3):\n",
    "                    source_path=batch_sample[i]\n",
    "                    filename=source_path.split('/')[-1]\n",
    "                    #print(filename)\n",
    "                    current_path='data/IMG/'+filename\n",
    "                    image = cv2.imread(current_path)\n",
    "                    images.append(image)\n",
    "                measurement = float(line[3])\n",
    "                correction=0.2\n",
    "                measurements.append(measurement)\n",
    "                measurements.append(measurement+correction)\n",
    "                measurements.append(measurement-correction)\n",
    "\n",
    "                image_flipped=[]\n",
    "                measurement_flipped=[]\n",
    "                for i in range(len(images)):\n",
    "                    image_flipped.append(images[i])\n",
    "                    measurement_flipped.append(measurements[i])\n",
    "\n",
    "                images=images+image_flipped\n",
    "                measurements=measurements+measurement_flipped\n",
    "\n",
    "                del image_flipped\n",
    "                del measurement_flipped\n",
    "\n",
    "            X_train=np.array(images)\n",
    "            y_train=np.array(measurements)\n",
    "            print(X_train.shape)\n",
    "\n",
    "            # trim image to only see section with road\n",
    "            \n",
    "            yield sklearn.utils.shuffle(X_train, y_train)"
   ]
  },
  {
   "cell_type": "code",
   "execution_count": 6,
   "metadata": {},
   "outputs": [],
   "source": [
    "# batch_samples = samples[0:32]\n",
    "\n",
    "# images = []\n",
    "# angles = []\n",
    "# for batch_sample in batch_samples:\n",
    "#     # name = './IMG/'+batch_sample[0].split('/')[-1]\n",
    "#     # center_image = cv2.imread(name)\n",
    "#     # center_angle = float(batch_sample[3])\n",
    "#     # images.append(center_image)\n",
    "#     # angles.append(center_angle)\n",
    "#     center = './data/'+batch_sample[0].split('/')[-1]\n",
    "#     left = './data/'+batch_sample[1].split('/')[-1]\n",
    "#     right = './data/'+batch_sample[2].split('/')[-1]\n",
    "#     image_center = cv2.imread(center)\n",
    "#     image_left = cv2.imread(left)\n",
    "#     image_right = cv2.imread(right)\n",
    "#     angle = float(batch_sample[6])\n",
    "#     images.append([image_center, image_left, image_right])\n",
    "#     #print(images)\n",
    "#     angles.append(angle)\n",
    "#     print(angles)\n"
   ]
  },
  {
   "cell_type": "code",
   "execution_count": 7,
   "metadata": {},
   "outputs": [],
   "source": [
    "# compile and train the model using the generator function\n",
    "train_generator = generator(train_samples, batch_size=32)\n",
    "validation_generator = generator(validation_samples, batch_size=32)"
   ]
  },
  {
   "cell_type": "code",
   "execution_count": 9,
   "metadata": {},
   "outputs": [
    {
     "name": "stdout",
     "output_type": "stream",
     "text": [
      "Convolute\n",
      "Model Done\n"
     ]
    }
   ],
   "source": [
    "model = Sequential()\n",
    "# Preprocess incoming data, centered around zero with small standard deviation \n",
    "# model.add(Lambda(lambda x: x/127.5 - 1.,\n",
    "#         input_shape=(ch, row, col),\n",
    "#         output_shape=(ch, row, col)))\n",
    "model.add(Lambda(lambda x: (x / 255.0) - 0.5, input_shape=(160,320,3)))\n",
    "# model.add(Cropping2D(cropping=((70,25),(0,0))))\n",
    "model.add(Convolution2D(34, 5, 5,activation='relu'))\n",
    "print('Convolute')\n",
    "# model.add(MaxPooling2D())\n",
    "# model.add(Convolution2D(28, 5, 5,activation='relu'))\n",
    "# model.add(MaxPooling2D())\n",
    "model.add(Flatten())\n",
    "model.add(Dense(60))\n",
    "model.add(Dropout(0.2))\n",
    "# model.add(Dense(30))\n",
    "# model.add(Dropout(0.3))\n",
    "model.add(Dense(10))\n",
    "#model.add(Dropout(0.2))\n",
    "model.add(Dense(1))\n",
    "print('Model Done')\n",
    "#sgd = optimizers.SGD(lr=0.01)\n",
    "model.compile(loss='mse',optimizer='adam')\n"
   ]
  },
  {
   "cell_type": "code",
   "execution_count": 12,
   "metadata": {},
   "outputs": [
    {
     "name": "stdout",
     "output_type": "stream",
     "text": [
      "____________________________________________________________________________________________________\n",
      "Layer (type)                     Output Shape          Param #     Connected to                     \n",
      "====================================================================================================\n",
      "lambda_1 (Lambda)                (None, 160, 320, 3)   0           lambda_input_1[0][0]             \n",
      "____________________________________________________________________________________________________\n",
      "convolution2d_1 (Convolution2D)  (None, 156, 316, 34)  2584        lambda_1[0][0]                   \n",
      "____________________________________________________________________________________________________\n",
      "flatten_1 (Flatten)              (None, 1676064)       0           convolution2d_1[0][0]            \n",
      "____________________________________________________________________________________________________\n",
      "dense_1 (Dense)                  (None, 60)            100563900   flatten_1[0][0]                  \n",
      "____________________________________________________________________________________________________\n",
      "dropout_1 (Dropout)              (None, 60)            0           dense_1[0][0]                    \n",
      "____________________________________________________________________________________________________\n",
      "dense_2 (Dense)                  (None, 10)            610         dropout_1[0][0]                  \n",
      "____________________________________________________________________________________________________\n",
      "dense_3 (Dense)                  (None, 1)             11          dense_2[0][0]                    \n",
      "====================================================================================================\n",
      "Total params: 100,567,105\n",
      "Trainable params: 100,567,105\n",
      "Non-trainable params: 0\n",
      "____________________________________________________________________________________________________\n"
     ]
    }
   ],
   "source": [
    "model.summary()"
   ]
  },
  {
   "cell_type": "code",
   "execution_count": null,
   "metadata": {},
   "outputs": [
    {
     "name": "stdout",
     "output_type": "stream",
     "text": [
      "Epoch 1/3\n"
     ]
    }
   ],
   "source": [
    "model.fit_generator(train_generator, samples_per_epoch= len(train_samples), validation_data=validation_generator,nb_val_samples=len(validation_samples), nb_epoch=3)"
   ]
  },
  {
   "cell_type": "code",
   "execution_count": null,
   "metadata": {},
   "outputs": [],
   "source": []
  }
 ],
 "metadata": {
  "kernelspec": {
   "display_name": "Python 3",
   "language": "python",
   "name": "python3"
  },
  "language_info": {
   "codemirror_mode": {
    "name": "ipython",
    "version": 3
   },
   "file_extension": ".py",
   "mimetype": "text/x-python",
   "name": "python",
   "nbconvert_exporter": "python",
   "pygments_lexer": "ipython3",
   "version": "3.5.2"
  },
  "widgets": {
   "state": {},
   "version": "1.1.2"
  }
 },
 "nbformat": 4,
 "nbformat_minor": 2
}
