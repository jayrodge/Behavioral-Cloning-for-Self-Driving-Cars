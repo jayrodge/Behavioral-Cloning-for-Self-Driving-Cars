{
 "cells": [
  {
   "cell_type": "code",
   "execution_count": 1,
   "metadata": {},
   "outputs": [
    {
     "name": "stderr",
     "output_type": "stream",
     "text": [
      "Using TensorFlow backend.\n"
     ]
    }
   ],
   "source": [
    "import csv\n",
    "import cv2 \n",
    "import numpy as np\n",
    "lines=[]\n",
    "with open('data/driving_log.csv') as csvfile:\n",
    "\treader=csv.reader(csvfile)\n",
    "\tfor line in reader:\n",
    "\t\tlines.append(line)\n",
    "\n",
    "images=[]\n",
    "measurements=[]\n",
    "for line in lines[1:]\t:\n",
    "\tfor i in range(3):\n",
    "\t\tsource_path=line[i]\n",
    "\t\ttokens=source_path.split('/')\n",
    "\t\tfilename=tokens[-1]\n",
    "\t\tlocal_path='data/IMG/'+filename\n",
    "\t\timage=cv2.imread(local_path)\n",
    "\t\timages.append(image)\n",
    "\tcorrection=0.2\n",
    "\tmeasurement=float(line[3])\n",
    "\tmeasurements.append(measurement)\n",
    "\tmeasurements.append(measurement+correction)\n",
    "\tmeasurements.append(measurement-correction)\n",
    "augmented_images=[]\n",
    "augmented_measurements=[]\n",
    "for image, measurement in zip(images,measurements):\n",
    "\taugmented_images.append(image)\n",
    "\taugmented_measurements.append(measurement)\n",
    "\tflipped_image=cv2.flip(image,1)\n",
    "\tflipped_measurement=measurement*-1.0\n",
    "\taugmented_images.append(flipped_image)\n",
    "\taugmented_measurements.append(flipped_measurement)\n",
    "\n",
    "X_train=np.array(augmented_images)\n",
    "y_train=np.array(augmented_measurements)\n",
    "\n",
    "import keras\n",
    "from keras.models import Sequential\n",
    "from keras.layers import Flatten,Dense,Lambda\n",
    "from keras.layers.convolutional import Convolution2D, Cropping2D\n",
    "from keras.layers.pooling import MaxPooling2D\n",
    "\n",
    "model=Sequential()\n",
    "model.add(Lambda(lambda x: x / 255.0 -0.5,input_shape=(160,320,3)))\n",
    "model.add(Cropping2D(cropping=((70,25),(0,0))))\n",
    "model.add(Convolution2D(6,5,5,activation='relu'))\n",
    "model.add(MaxPooling2D())\n",
    "model.add(Convolution2D(16,5,5,activation='relu'))\n",
    "model.add(MaxPooling2D())\n",
    "model.add(Flatten())\n",
    "model.add(Dense(120))\n",
    "model.add(Dense(84))\n",
    "model.add(Dense(1))"
   ]
  },
  {
   "cell_type": "code",
   "execution_count": null,
   "metadata": {},
   "outputs": [
    {
     "name": "stdout",
     "output_type": "stream",
     "text": [
      "Train on 38572 samples, validate on 9644 samples\n",
      "Epoch 1/3\n"
     ]
    }
   ],
   "source": [
    "model.compile(optimizer='adam',loss='mse')\n",
    "model.fit(X_train,y_train,validation_split=0.2,nb_epoch=3,shuffle=True)\n",
    "model.save('david.h5')"
   ]
  },
  {
   "cell_type": "code",
   "execution_count": null,
   "metadata": {},
   "outputs": [],
   "source": []
  }
 ],
 "metadata": {
  "kernelspec": {
   "display_name": "Python 3",
   "language": "python",
   "name": "python3"
  },
  "language_info": {
   "codemirror_mode": {
    "name": "ipython",
    "version": 3
   },
   "file_extension": ".py",
   "mimetype": "text/x-python",
   "name": "python",
   "nbconvert_exporter": "python",
   "pygments_lexer": "ipython3",
   "version": "3.5.2"
  },
  "widgets": {
   "state": {},
   "version": "1.1.2"
  }
 },
 "nbformat": 4,
 "nbformat_minor": 2
}
